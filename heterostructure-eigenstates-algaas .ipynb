{
 "cells": [
  {
   "cell_type": "markdown",
   "metadata": {},
   "source": [
    "# Heterostructures (Quantum Well): Eigenstates and Eigenvalues\n",
    "\n",
    "In this brief example we try to calculate eigenstates and eigenvalues for a quantum well surrounded by two potential barriers.\n",
    "\n",
    "Such a structure aims to modulate an electron beam through the electrons wavelength.\n",
    "\n",
    "The structure is composed of $Al_{x}Ga_{1-x}As$. The well has concentration $x=0$, the ground state has concentration of $x=0.3$ and the barriers have concentration of $x=0.4$"
   ]
  },
  {
   "cell_type": "markdown",
   "metadata": {},
   "source": [
    "## These are the libraries used"
   ]
  },
  {
   "cell_type": "code",
   "execution_count": 2,
   "metadata": {
    "collapsed": true
   },
   "outputs": [],
   "source": [
    "%matplotlib inline\n",
    "import matplotlib\n",
    "import matplotlib.pyplot as plt\n",
    "import numpy as np\n",
    "from scipy.integrate import simps\n",
    "import scipy.constants as cte\n",
    "import scipy.special as sp\n",
    "from scipy.signal import gaussian\n",
    "from scipy.fftpack import fft, ifft, fftfreq"
   ]
  },
  {
   "cell_type": "code",
   "execution_count": null,
   "metadata": {
    "collapsed": true
   },
   "outputs": [],
   "source": []
  }
 ],
 "metadata": {
  "kernelspec": {
   "display_name": "Python 3",
   "language": "python",
   "name": "python3"
  },
  "language_info": {
   "codemirror_mode": {
    "name": "ipython",
    "version": 3
   },
   "file_extension": ".py",
   "mimetype": "text/x-python",
   "name": "python",
   "nbconvert_exporter": "python",
   "pygments_lexer": "ipython3",
   "version": "3.6.3"
  }
 },
 "nbformat": 4,
 "nbformat_minor": 2
}
